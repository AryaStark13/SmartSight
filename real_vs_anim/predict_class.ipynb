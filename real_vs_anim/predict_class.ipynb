{
 "cells": [
  {
   "cell_type": "code",
   "execution_count": 22,
   "metadata": {},
   "outputs": [],
   "source": [
    "import tensorflow as tf\n",
    "import numpy as np\n",
    "from PIL import Image\n",
    "\n",
    "model = tf.keras.models.load_model(r'C:\\Users\\ariha\\Desktop\\aryan\\model1.h5')\n",
    "\n",
    "CLASSES = {\n",
    "    0: 'Anime',\n",
    "    1: 'Cartoon',\n",
    "    2: 'Human',\n",
    "}"
   ]
  },
  {
   "cell_type": "code",
   "execution_count": 19,
   "metadata": {},
   "outputs": [],
   "source": [
    "im = Image.open(r\"C:\\Users\\ariha\\Desktop\\aryan\\WIN_20230108_15_57_58_Pro.jpg\")\n",
    "im = im.resize((427, 446))\n",
    "im = np.array(im)\n",
    "im = im.reshape(1, 427, 446, 3)"
   ]
  },
  {
   "cell_type": "code",
   "execution_count": 30,
   "metadata": {},
   "outputs": [
    {
     "name": "stdout",
     "output_type": "stream",
     "text": [
      "1/1 [==============================] - 0s 480ms/step\n",
      "Anime\n"
     ]
    }
   ],
   "source": [
    "yhat = model.predict(im)[0]\n",
    "\n",
    "pred_class = CLASSES[np.argmax(yhat)]\n",
    "print(pred_class)"
   ]
  }
 ],
 "metadata": {
  "kernelspec": {
   "display_name": "base",
   "language": "python",
   "name": "python3"
  },
  "language_info": {
   "codemirror_mode": {
    "name": "ipython",
    "version": 3
   },
   "file_extension": ".py",
   "mimetype": "text/x-python",
   "name": "python",
   "nbconvert_exporter": "python",
   "pygments_lexer": "ipython3",
   "version": "3.9.7"
  },
  "orig_nbformat": 4
 },
 "nbformat": 4,
 "nbformat_minor": 2
}
