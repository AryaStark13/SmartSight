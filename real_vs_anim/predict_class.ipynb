{
 "cells": [
  {
   "cell_type": "code",
   "execution_count": 1,
   "metadata": {},
   "outputs": [],
   "source": [
    "import tensorflow as tf\n",
    "import numpy as np\n",
    "from PIL import Image\n",
    "import os\n",
    "\n",
    "model = tf.keras.models.load_model(r'C:\\Users\\ariha\\Desktop\\COC\\EnemiesOfSyntax_AIML_01\\real_vs_anim\\real_vs_anime_v3.h5')\n",
    "\n",
    "CLASSES = {\n",
    "    0: \"Animated\",\n",
    "    1: \"Real\"\n",
    "}\n",
    "\n",
    "imgs_dir = os.listdir('../test_images/')\n",
    "imgs_dir = sorted(imgs_dir, key= lambda x: int(x.split('.')[0]))"
   ]
  },
  {
   "cell_type": "code",
   "execution_count": 2,
   "metadata": {},
   "outputs": [
    {
     "name": "stdout",
     "output_type": "stream",
     "text": [
      "1/1 [==============================] - 1s 631ms/step\n",
      "1/1 [==============================] - 0s 78ms/step\n",
      "1/1 [==============================] - 0s 60ms/step\n",
      "1/1 [==============================] - 0s 53ms/step\n",
      "1/1 [==============================] - 0s 57ms/step\n",
      "1/1 [==============================] - 0s 55ms/step\n",
      "1/1 [==============================] - 0s 56ms/step\n",
      "1/1 [==============================] - 0s 52ms/step\n",
      "1/1 [==============================] - 0s 57ms/step\n",
      "1/1 [==============================] - 0s 52ms/step\n",
      "1/1 [==============================] - 0s 61ms/step\n",
      "1/1 [==============================] - 0s 56ms/step\n",
      "1/1 [==============================] - 0s 71ms/step\n",
      "1/1 [==============================] - 0s 51ms/step\n",
      "1/1 [==============================] - 0s 55ms/step\n",
      "1/1 [==============================] - 0s 53ms/step\n",
      "1/1 [==============================] - 0s 55ms/step\n",
      "1/1 [==============================] - 0s 65ms/step\n",
      "1/1 [==============================] - 0s 67ms/step\n",
      "1/1 [==============================] - 0s 69ms/step\n",
      "1/1 [==============================] - 0s 57ms/step\n",
      "1/1 [==============================] - 0s 67ms/step\n",
      "1/1 [==============================] - 0s 58ms/step\n",
      "1/1 [==============================] - 0s 56ms/step\n"
     ]
    }
   ],
   "source": [
    "y_pred_classes = []\n",
    "\n",
    "for img_dir in imgs_dir:\n",
    "    img = Image.open('../test_images/' + img_dir)\n",
    "    # img = Image.open(r\"C:\\Users\\ariha\\Desktop\\COC\\EnemiesOfSyntax_AIML_01\\test_images\\9.jpg\")\n",
    "\n",
    "    img = img.convert('RGB')\n",
    "    img = img.resize((64, 64))\n",
    "    img = np.array(img)\n",
    "    img = img.reshape(1, 64, 64, 3)\n",
    "\n",
    "    yhat = model.predict(img)[0]\n",
    "    pred_class = CLASSES[np.argmax(yhat)]\n",
    "    y_pred_classes.append(pred_class)"
   ]
  },
  {
   "cell_type": "code",
   "execution_count": 6,
   "metadata": {},
   "outputs": [
    {
     "name": "stdout",
     "output_type": "stream",
     "text": [
      "1.jpg\t -- \tReal\n",
      "2.jpg\t -- \tReal\n",
      "3.jpg\t -- \tReal\n",
      "4.png\t -- \tAnimated\n",
      "5.jpg\t -- \tAnimated\n",
      "6.jpg\t -- \tAnimated\n",
      "7.jpg\t -- \tReal\n",
      "8.jpg\t -- \tReal\n",
      "9.jpg\t -- \tReal\n",
      "10.jpg\t -- \tReal\n",
      "11.jpg\t -- \tReal\n",
      "12.jpg\t -- \tReal\n",
      "13.jpg\t -- \tReal\n",
      "14.jpg\t -- \tReal\n",
      "15.jpg\t -- \tReal\n",
      "16.jpg\t -- \tReal\n",
      "17.jpg\t -- \tReal\n",
      "18.jpg\t -- \tReal\n",
      "19.jpg\t -- \tReal\n",
      "20.jpg\t -- \tReal\n",
      "21.jpg\t -- \tReal\n",
      "22.jpg\t -- \tReal\n",
      "23.jpg\t -- \tReal\n",
      "24.jpg\t -- \tReal\n"
     ]
    }
   ],
   "source": [
    "for img_dir, y_pred in zip(imgs_dir, y_pred_classes):\n",
    "    print(img_dir + \"\\t -- \\t\" + y_pred)"
   ]
  }
 ],
 "metadata": {
  "kernelspec": {
   "display_name": "base",
   "language": "python",
   "name": "python3"
  },
  "language_info": {
   "codemirror_mode": {
    "name": "ipython",
    "version": 3
   },
   "file_extension": ".py",
   "mimetype": "text/x-python",
   "name": "python",
   "nbconvert_exporter": "python",
   "pygments_lexer": "ipython3",
   "version": "3.10.5"
  },
  "orig_nbformat": 4
 },
 "nbformat": 4,
 "nbformat_minor": 2
}
