{
 "cells": [
  {
   "cell_type": "code",
   "execution_count": 1,
   "metadata": {},
   "outputs": [],
   "source": [
    "import tensorflow as tf\n",
    "from tensorflow.keras.models import load_model"
   ]
  },
  {
   "cell_type": "code",
   "execution_count": 22,
   "metadata": {},
   "outputs": [],
   "source": [
    "model = load_model('./model.h5')\n",
    "\n",
    "CLASSES = {\n",
    "    0: 'fake',\n",
    "    1: 'real'\n",
    "}"
   ]
  },
  {
   "cell_type": "code",
   "execution_count": 5,
   "metadata": {},
   "outputs": [],
   "source": [
    "# model.get_config()\n",
    "\n",
    "# input shape: (None, 96, 96, 3)"
   ]
  },
  {
   "cell_type": "code",
   "execution_count": 30,
   "metadata": {},
   "outputs": [
    {
     "name": "stdout",
     "output_type": "stream",
     "text": [
      "1/1 [==============================] - 0s 68ms/step\n",
      "real\n"
     ]
    }
   ],
   "source": [
    "from PIL import Image\n",
    "import numpy as np\n",
    "\n",
    "# img = Image.open(r'C:\\Users\\ariha\\Desktop\\COC\\datasouls_antispoof\\datasouls_antispoof\\fake_1.jpg')\n",
    "img = Image.open('./real_2.jpg')\n",
    "img = img.resize((96, 96))\n",
    "img_arr = np.array(img)\n",
    "img_arr = img_arr.reshape(1, 96, 96, 3)\n",
    "\n",
    "preds = model.predict(img_arr)[0]\n",
    "\n",
    "print(CLASSES[np.argmax(preds)])"
   ]
  }
 ],
 "metadata": {
  "kernelspec": {
   "display_name": "coco_env",
   "language": "python",
   "name": "python3"
  },
  "language_info": {
   "codemirror_mode": {
    "name": "ipython",
    "version": 3
   },
   "file_extension": ".py",
   "mimetype": "text/x-python",
   "name": "python",
   "nbconvert_exporter": "python",
   "pygments_lexer": "ipython3",
   "version": "3.10.5"
  },
  "orig_nbformat": 4
 },
 "nbformat": 4,
 "nbformat_minor": 2
}
