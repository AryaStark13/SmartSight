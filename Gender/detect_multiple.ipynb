{
 "cells": [
  {
   "cell_type": "code",
   "execution_count": 1,
   "metadata": {},
   "outputs": [],
   "source": [
    "from deepface import DeepFace\n",
    "import base64\n",
    "from PIL import Image\n",
    "import io\n",
    "import os\n",
    "import matplotlib.pyplot as plt"
   ]
  },
  {
   "cell_type": "code",
   "execution_count": null,
   "metadata": {},
   "outputs": [],
   "source": [
    "imgs_dir = os.listdir('../test_images/')\n",
    "imgs_dir = sorted(imgs_dir, key= lambda x: int(x.split('.')[0]))\n",
    "imgs_dir"
   ]
  },
  {
   "cell_type": "code",
   "execution_count": null,
   "metadata": {},
   "outputs": [],
   "source": [
    "img = Image.open('../test_images/' + imgs_dir[0])\n",
    "img"
   ]
  },
  {
   "cell_type": "code",
   "execution_count": null,
   "metadata": {},
   "outputs": [],
   "source": [
    "sex_list = []\n",
    "\n",
    "for img_dir in imgs_dir:\n",
    "    img = Image.open('../test_images/' + img_dir)\n",
    "    img = img.convert('RGB')\n",
    "\n",
    "    try:\n",
    "        analysis = DeepFace.analyze(\n",
    "            img_path='../test_images/' + img_dir, actions=[\"gender\"])\n",
    "        gender = analysis[0]['dominant_gender']\n",
    "    except ValueError:\n",
    "        gender = \"Unknown\"\n",
    "\n",
    "    GENDER = {\n",
    "        \"Woman\": 'Female',\n",
    "        \"Man\": \"Male\",\n",
    "        \"Unknown\": \"No gender determined from the image\"\n",
    "    }\n",
    "\n",
    "    sex = GENDER[gender]\n",
    "    # sex_list.append([img, sex])\n",
    "    sex_list.append(sex)\n",
    "    # plt.imshow(img)\n",
    "    # print(sex)"
   ]
  },
  {
   "cell_type": "code",
   "execution_count": 11,
   "metadata": {},
   "outputs": [
    {
     "name": "stdout",
     "output_type": "stream",
     "text": [
      "1.jpg No gender determined from the image\n",
      "2.jpg No gender determined from the image\n",
      "3.jpg No gender determined from the image\n",
      "4.png Male\n",
      "5.jpg Male\n",
      "6.jpg Female\n",
      "7.jpg No gender determined from the image\n",
      "8.jpg Male\n",
      "9.jpg Male\n",
      "10.jpg Male\n",
      "11.jpg Male\n",
      "12.jpg Male\n",
      "13.jpg Female\n",
      "14.jpg No gender determined from the image\n",
      "15.jpg Female\n",
      "16.jpg Female\n",
      "17.jpg Female\n",
      "18.jpg No gender determined from the image\n",
      "19.jpg Male\n",
      "20.jpg Female\n",
      "21.jpg No gender determined from the image\n",
      "22.jpg No gender determined from the image\n",
      "23.jpg No gender determined from the image\n",
      "24.jpg No gender determined from the image\n"
     ]
    }
   ],
   "source": [
    "for img_dir, sex in zip(imgs_dir, sex_list):\n",
    "    print(img_dir, sex)"
   ]
  }
 ],
 "metadata": {
  "kernelspec": {
   "display_name": "coco_env",
   "language": "python",
   "name": "python3"
  },
  "language_info": {
   "codemirror_mode": {
    "name": "ipython",
    "version": 3
   },
   "file_extension": ".py",
   "mimetype": "text/x-python",
   "name": "python",
   "nbconvert_exporter": "python",
   "pygments_lexer": "ipython3",
   "version": "3.10.5"
  },
  "orig_nbformat": 4
 },
 "nbformat": 4,
 "nbformat_minor": 2
}
